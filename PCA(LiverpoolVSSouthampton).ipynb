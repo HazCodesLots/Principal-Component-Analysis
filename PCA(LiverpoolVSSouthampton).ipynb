{
 "cells": [
  {
   "cell_type": "code",
   "execution_count": 59,
   "id": "f5c5fc0c-a94c-4a90-9234-4573fbc1ab50",
   "metadata": {},
   "outputs": [
    {
     "name": "stdout",
     "output_type": "stream",
     "text": [
      "    Rank                  Player  Annual Salary\n",
      "0      1           Mohamed Salah       18200000\n",
      "1      2         Virgil van Dijk       11440000\n",
      "2      3  Trent Alexander-Arnold        9360000\n",
      "3      4        Andrew Robertson        8320000\n",
      "4      5         Federico Chiesa        7800000\n",
      "5      6        Ryan Gravenberch        7800000\n",
      "6      7     Alexis Mac Allister        7800000\n",
      "7      8          Alisson Becker        7800000\n",
      "8      9              Diogo Jota        7280000\n",
      "9     10            Darwin Núñez        7280000\n",
      "10    11              Cody Gakpo        6240000\n",
      "11    12      Dominik Szoboszlai        6240000\n",
      "12    13               Joe Gomez        4420000\n",
      "13    14   Konstantinos Tsimikas        3900000\n",
      "14    15         Ibrahima Konate        3640000\n",
      "15    16      Nathaniel Phillips        3380000\n",
      "16    17               Luis Díaz        2860000\n",
      "17    18             Wataru Endo        2600000\n",
      "18    19         Stefan Bajcetic        2080000\n",
      "19    20          Harvey Elliott        2080000\n",
      "20    21          Jarell Quansah        1560000\n",
      "                   Player   Position  Annual Salary (GBP)  Weekly Salary (GBP)\n",
      "0          Aaron Ramsdale         GK              4784000                92000\n",
      "1            Adam Lallana         DM              3952000                76000\n",
      "2           Maxwel Cornet      AM RL              3328000                64000\n",
      "3       Yukinari Sugawara  D/WB/AM R              3120000                60000\n",
      "4       Ben Brereton Díaz      AM RL              2704000                52000\n",
      "5            Flynn Downes         DM              2652000                51000\n",
      "6        Lesley Ugochukwu         DM              2600000                50000\n",
      "7           Alex McCarthy         GK              2340000                45000\n",
      "8          Charlie Taylor       D LC              2288000                44000\n",
      "9        Mateus Fernandes       AM C              2132000                41000\n",
      "10  Taylor Harwood-Bellis       D RC              1976000                38000\n",
      "11            Ryan Fraser      AM RL              1924000                37000\n",
      "12     Kyle Walker-Peters    D/WB RL              1872000                36000\n",
      "13           Jan Bednarek        D C              1872000                36000\n",
      "14              Joe Aribo     AM RLC              1872000                36000\n",
      "15         Cameron Archer         ST              1768000                34000\n",
      "16         Adam Armstrong       AM R              1716000                33000\n",
      "17          Jack Stephens        D C              1560000                30000\n",
      "18     Kamaldeen Sulemana      AM RL              1560000                30000\n",
      "19           Paul Onuachu         ST              1508000                29000\n",
      "20            Nathan Wood        D C              1508000                29000\n"
     ]
    }
   ],
   "source": [
    "import pandas as pd\n",
    "\n",
    "DataframeL = pd.read_csv(r\"D:\\Pythun projexx\\Salaries\\LiverpoolSalary.csv\", thousands=',') #Excel adding commas by itself\n",
    "print(DataframeL)\n",
    "DataframeS = pd.read_csv(r\"D:\\Pythun projexx\\Salaries\\SouthamptonSalary.csv\", thousands=',')\n",
    "print(DataframeS)"
   ]
  },
  {
   "cell_type": "code",
   "execution_count": 71,
   "id": "d846830c-ae6f-4d92-8f39-50983f37ac36",
   "metadata": {},
   "outputs": [
    {
     "name": "stdout",
     "output_type": "stream",
     "text": [
      "0     18200000.0\n",
      "1     11440000.0\n",
      "2      9360000.0\n",
      "3      8320000.0\n",
      "4      7800000.0\n",
      "5      7800000.0\n",
      "6      7800000.0\n",
      "7      7800000.0\n",
      "8      7280000.0\n",
      "9      7280000.0\n",
      "10     6240000.0\n",
      "11     6240000.0\n",
      "12     4420000.0\n",
      "13     3900000.0\n",
      "14     3640000.0\n",
      "15     3380000.0\n",
      "16     2860000.0\n",
      "17     2600000.0\n",
      "18     2080000.0\n",
      "19     2080000.0\n",
      "20     1560000.0\n",
      "Name: Annual Salary, dtype: float64\n",
      "0     4784000.0\n",
      "1     3952000.0\n",
      "2     3328000.0\n",
      "3     3120000.0\n",
      "4     2704000.0\n",
      "5     2652000.0\n",
      "6     2600000.0\n",
      "7     2340000.0\n",
      "8     2288000.0\n",
      "9     2132000.0\n",
      "10    1976000.0\n",
      "11    1924000.0\n",
      "12    1872000.0\n",
      "13    1872000.0\n",
      "14    1872000.0\n",
      "15    1768000.0\n",
      "16    1716000.0\n",
      "17    1560000.0\n",
      "18    1560000.0\n",
      "19    1508000.0\n",
      "20    1508000.0\n",
      "Name: Annual Salary (GBP), dtype: float64\n"
     ]
    }
   ],
   "source": [
    "Liverpool_salaries = DataframeL[\"Annual Salary\"].astype(float) #float so it detects as numbers\n",
    "print(liverpool_salaries)\n",
    "Southampton_salaries = DataframeS[\"Annual Salary (GBP)\"].astype(float)\n",
    "print(Southampton_salaries)"
   ]
  },
  {
   "cell_type": "code",
   "execution_count": 79,
   "id": "a52a103d-5f67-415c-9919-e042a5e70221",
   "metadata": {},
   "outputs": [],
   "source": [
    "import numpy as np\n",
    "#have to convert pd dataframe to np dataframe or it wont work\n",
    "#also dont forget to transpose it\n",
    "Liverpool_array = Liverpool_salaries.to_numpy()\n",
    "Southampton_array = Southampton_salaries.to_numpy()"
   ]
  },
  {
   "cell_type": "code",
   "execution_count": 81,
   "id": "705c7ab9-44fb-4673-bbd7-48d6045c13d5",
   "metadata": {},
   "outputs": [],
   "source": [
    "X_salaries = np.array([Liverpool_array, Southampton_array]).T"
   ]
  },
  {
   "cell_type": "code",
   "execution_count": 83,
   "id": "0bdcaf1d-0d0f-4fcf-b659-0743a9d53c64",
   "metadata": {},
   "outputs": [
    {
     "name": "stdout",
     "output_type": "stream",
     "text": [
      "[[18200000.  4784000.]\n",
      " [11440000.  3952000.]\n",
      " [ 9360000.  3328000.]\n",
      " [ 8320000.  3120000.]\n",
      " [ 7800000.  2704000.]\n",
      " [ 7800000.  2652000.]\n",
      " [ 7800000.  2600000.]\n",
      " [ 7800000.  2340000.]\n",
      " [ 7280000.  2288000.]\n",
      " [ 7280000.  2132000.]\n",
      " [ 6240000.  1976000.]\n",
      " [ 6240000.  1924000.]\n",
      " [ 4420000.  1872000.]\n",
      " [ 3900000.  1872000.]\n",
      " [ 3640000.  1872000.]\n",
      " [ 3380000.  1768000.]\n",
      " [ 2860000.  1716000.]\n",
      " [ 2600000.  1560000.]\n",
      " [ 2080000.  1560000.]\n",
      " [ 2080000.  1508000.]\n",
      " [ 1560000.  1508000.]]\n"
     ]
    }
   ],
   "source": [
    "print(X_salaries)"
   ]
  },
  {
   "cell_type": "code",
   "execution_count": 87,
   "id": "ab9f960f-7c9e-455c-8d4f-2157f71be507",
   "metadata": {},
   "outputs": [
    {
     "data": {
      "text/plain": [
       "<matplotlib.collections.PathCollection at 0x20609905400>"
      ]
     },
     "execution_count": 87,
     "metadata": {},
     "output_type": "execute_result"
    },
    {
     "data": {
      "image/png": "[encoded data removed]",
      "text/plain": [
       "<Figure size 640x480 with 1 Axes>"
      ]
     },
     "metadata": {},
     "output_type": "display_data"
    }
   ],
   "source": [
    "import matplotlib.pyplot as plt\n",
    "plt.scatter(X_salaries[:,0],X_salaries[:,1])"
   ]
  },
  {
   "cell_type": "code",
   "execution_count": 99,
   "id": "80565f6c-4e6f-4329-a0aa-2c52e5edf42d",
   "metadata": {},
   "outputs": [
    {
     "data": {
      "text/plain": [
       "<matplotlib.collections.PathCollection at 0x20609b7ef90>"
      ]
     },
     "execution_count": 99,
     "metadata": {},
     "output_type": "execute_result"
    },
    {
     "data": {
      "image/png": "[encoded data removed]",
      "text/plain": [
       "<Figure size 640x480 with 1 Axes>"
      ]
     },
     "metadata": {},
     "output_type": "display_data"
    }
   ],
   "source": [
    "X_meaned=X_salaries-np.mean(X_salaries, axis=0)\n",
    "plt.figure\n",
    "plt.scatter(X_meaned[:,0], X_meaned[:,1])\n",
    "plt.scatter(X_salaries[:,0], X_salaries[:,1])"
   ]
  },
  {
   "cell_type": "code",
   "execution_count": 101,
   "id": "f064e360-bf84-45b6-ac3c-4bbbf2ecd1f4",
   "metadata": {},
   "outputs": [
    {
     "name": "stdout",
     "output_type": "stream",
     "text": [
      "[[1.50451848e+13 3.19300552e+12]\n",
      " [3.19300552e+12 7.38977448e+11]]\n"
     ]
    }
   ],
   "source": [
    "C=np.cov(X_meaned, rowvar=False)\n",
    "print(C)"
   ]
  },
  {
   "cell_type": "code",
   "execution_count": 103,
   "id": "2b40a2ae-baae-4bf0-9aea-25537473281e",
   "metadata": {},
   "outputs": [
    {
     "name": "stdout",
     "output_type": "stream",
     "text": [
      "[1.57254824e+13 5.86797870e+10]\n",
      "[[ 0.97804761 -0.20838157]\n",
      " [ 0.20838157  0.97804761]]\n"
     ]
    }
   ],
   "source": [
    "eval, evec=np.linalg.eig(C)\n",
    "print(eval)\n",
    "print(evec)"
   ]
  },
  {
   "cell_type": "code",
   "execution_count": 105,
   "id": "7673e0f0-f55e-4469-8c3d-eb8c8bc9aec2",
   "metadata": {},
   "outputs": [],
   "source": [
    "sorted_index=np.argsort(eval)[::-1]\n",
    "sorted_eval=eval[sorted_index]\n",
    "sorted_evec=evec[:,sorted_index]"
   ]
  },
  {
   "cell_type": "code",
   "execution_count": 107,
   "id": "872f53cb-aced-4e82-b7f3-1c205a38c2ac",
   "metadata": {},
   "outputs": [
    {
     "name": "stdout",
     "output_type": "stream",
     "text": [
      "[[0.97804761]\n",
      " [0.20838157]]\n"
     ]
    }
   ],
   "source": [
    "n=1\n",
    "evec_subset=sorted_evec[:,0:n]\n",
    "print(evec_subset)"
   ]
  },
  {
   "cell_type": "code",
   "execution_count": 119,
   "id": "9b97a5ab-adad-4114-a04b-113df23e631e",
   "metadata": {},
   "outputs": [
    {
     "name": "stdout",
     "output_type": "stream",
     "text": [
      "[[12159329.27679203]\n",
      " [ 5374353.98723857]\n",
      " [ 3209984.86556968]\n",
      " [ 2149471.9878544 ]\n",
      " [ 1554200.49963927]\n",
      " [ 1543364.65807969]\n",
      " [ 1532528.8165201 ]\n",
      " [ 1478349.60872219]\n",
      " [  958929.01142413]\n",
      " [  926421.48674539]\n",
      " [ -123255.54941031]\n",
      " [ -134091.39096989]\n",
      " [-1924973.87761413]\n",
      " [-2433558.6333526 ]\n",
      " [-2687851.01122184]\n",
      " [-2963815.07221024]\n",
      " [-3483235.66950829]\n",
      " [-3770035.57205628]\n",
      " [-4278620.32779475]\n",
      " [-4289456.16935433]\n",
      " [-4798040.92509281]]\n"
     ]
    }
   ],
   "source": [
    "X_reduced=np.dot(evec_subset.transpose(), X_meaned.transpose()).transpose()\n",
    "print(X_reduced)"
   ]
  },
  {
   "cell_type": "code",
   "execution_count": 121,
   "id": "5b2ecb82-b5eb-4416-8233-dbca3e979084",
   "metadata": {},
   "outputs": [
    {
     "name": "stdout",
     "output_type": "stream",
     "text": [
      "Unshifted reduced data:\n",
      "[[18448853.08631584 14494376.89583965]\n",
      " [11663877.79676238  7709401.60628618]\n",
      " [ 9499508.67509349  5545032.4846173 ]\n",
      " [ 8438995.79737821  4484519.60690202]\n",
      " [ 7843724.30916308  3889248.11868689]\n",
      " [ 7832888.4676035   3878412.27712731]\n",
      " [ 7822052.62604391  3867576.43556772]\n",
      " [ 7767873.418246    3813397.22776981]\n",
      " [ 7248452.82094794  3293976.63047175]\n",
      " [ 7215945.2962692   3261469.105793  ]\n",
      " [ 6166268.2601135   2211792.06963731]\n",
      " [ 6155432.41855392  2200956.22807773]\n",
      " [ 4364549.93190968   410073.74143349]\n",
      " [ 3855965.17617121   -98511.01430498]\n",
      " [ 3601672.79830197  -352803.39217422]\n",
      " [ 3325708.73731357  -628767.45316262]\n",
      " [ 2806288.14001552 -1148188.05046067]\n",
      " [ 2519488.23746753 -1434987.95300866]\n",
      " [ 2010903.48172906 -1943572.70874713]\n",
      " [ 2000067.64016948 -1954408.55030671]\n",
      " [ 1491482.884431   -2462993.30604519]]\n"
     ]
    }
   ],
   "source": [
    "#shift the data back since salary cannot have negative values\n",
    "\n",
    "means = np.mean(X_salaries, axis=0)\n",
    "X_reduced_unshifted = X_reduced + means\n",
    "\n",
    "print(\"Unshifted reduced data:\")\n",
    "print(X_reduced_unshifted)"
   ]
  },
  {
   "cell_type": "code",
   "execution_count": 129,
   "id": "004015a7-98f8-4f98-a90e-249e0f629726",
   "metadata": {},
   "outputs": [
    {
     "data": {
      "image/png": "[encoded data removed]",
      "text/plain": [
       "<Figure size 640x480 with 1 Axes>"
      ]
     },
     "metadata": {},
     "output_type": "display_data"
    }
   ],
   "source": [
    "plt.figure()\n",
    "plt.scatter(X_reduced_unshifted[:,0], X_reduced_unshifted[:,1])\n",
    "plt.scatter(X_salaries[:,0], X_salaries[:,1])\n",
    "plt.show()"
   ]
  },
  {
   "cell_type": "code",
   "execution_count": null,
   "id": "c44a1f9f-d2b2-4fa7-b086-b414c2dfef17",
   "metadata": {},
   "outputs": [],
   "source": []
  }
 ],
 "metadata": {
  "kernelspec": {
   "display_name": "Python [conda env:anaconda3]",
   "language": "python",
   "name": "conda-env-anaconda3-py"
  },
  "language_info": {
   "codemirror_mode": {
    "name": "ipython",
    "version": 3
   },
   "file_extension": ".py",
   "mimetype": "text/x-python",
   "name": "python",
   "nbconvert_exporter": "python",
   "pygments_lexer": "ipython3",
   "version": "3.12.7"
  }
 },
 "nbformat": 4,
 "nbformat_minor": 5
}
